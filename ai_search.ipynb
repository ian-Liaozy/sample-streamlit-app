{
 "cells": [
  {
   "cell_type": "markdown",
   "metadata": {},
   "source": [
    "## 1. Create text indexing"
   ]
  },
  {
   "cell_type": "code",
   "execution_count": null,
   "metadata": {},
   "outputs": [
    {
     "name": "stdout",
     "output_type": "stream",
     "text": [
      "Requirement already satisfied: txtai in /Users/Ian/opt/anaconda3/lib/python3.9/site-packages (6.2.0)\n",
      "Requirement already satisfied: faiss-cpu>=1.7.1.post2 in /Users/Ian/opt/anaconda3/lib/python3.9/site-packages (from txtai) (1.7.4)\n",
      "Requirement already satisfied: torch>=1.12.1 in /Users/Ian/opt/anaconda3/lib/python3.9/site-packages (from txtai) (2.1.0)\n",
      "Requirement already satisfied: transformers>=4.22.0 in /Users/Ian/opt/anaconda3/lib/python3.9/site-packages (from txtai) (4.32.1)\n",
      "Requirement already satisfied: huggingface-hub>=0.9.0 in /Users/Ian/opt/anaconda3/lib/python3.9/site-packages (from txtai) (0.15.1)\n",
      "Requirement already satisfied: numpy>=1.18.4 in /Users/Ian/opt/anaconda3/lib/python3.9/site-packages (from txtai) (1.24.3)\n",
      "Requirement already satisfied: pyyaml>=5.3 in /Users/Ian/opt/anaconda3/lib/python3.9/site-packages (from txtai) (6.0)\n",
      "Requirement already satisfied: regex>=2022.8.17 in /Users/Ian/opt/anaconda3/lib/python3.9/site-packages (from txtai) (2023.10.3)\n",
      "Requirement already satisfied: filelock in /Users/Ian/opt/anaconda3/lib/python3.9/site-packages (from huggingface-hub>=0.9.0->txtai) (3.9.0)\n",
      "Requirement already satisfied: fsspec in /Users/Ian/opt/anaconda3/lib/python3.9/site-packages (from huggingface-hub>=0.9.0->txtai) (2023.4.0)\n",
      "Requirement already satisfied: requests in /Users/Ian/opt/anaconda3/lib/python3.9/site-packages (from huggingface-hub>=0.9.0->txtai) (2.31.0)\n",
      "Requirement already satisfied: tqdm>=4.42.1 in /Users/Ian/opt/anaconda3/lib/python3.9/site-packages (from huggingface-hub>=0.9.0->txtai) (4.65.0)\n",
      "Requirement already satisfied: typing-extensions>=3.7.4.3 in /Users/Ian/opt/anaconda3/lib/python3.9/site-packages (from huggingface-hub>=0.9.0->txtai) (4.8.0)\n",
      "Requirement already satisfied: packaging>=20.9 in /Users/Ian/opt/anaconda3/lib/python3.9/site-packages (from huggingface-hub>=0.9.0->txtai) (23.1)\n",
      "Requirement already satisfied: sympy in /Users/Ian/opt/anaconda3/lib/python3.9/site-packages (from torch>=1.12.1->txtai) (1.11.1)\n",
      "Requirement already satisfied: networkx in /Users/Ian/opt/anaconda3/lib/python3.9/site-packages (from torch>=1.12.1->txtai) (3.1)\n",
      "Requirement already satisfied: jinja2 in /Users/Ian/opt/anaconda3/lib/python3.9/site-packages (from torch>=1.12.1->txtai) (2.11.3)\n",
      "Requirement already satisfied: tokenizers!=0.11.3,<0.14,>=0.11.1 in /Users/Ian/opt/anaconda3/lib/python3.9/site-packages (from transformers>=4.22.0->txtai) (0.13.2)\n",
      "Requirement already satisfied: safetensors>=0.3.1 in /Users/Ian/opt/anaconda3/lib/python3.9/site-packages (from transformers>=4.22.0->txtai) (0.3.2)\n",
      "Requirement already satisfied: MarkupSafe>=0.23 in /Users/Ian/opt/anaconda3/lib/python3.9/site-packages (from jinja2->torch>=1.12.1->txtai) (2.0.1)\n",
      "Requirement already satisfied: charset-normalizer<4,>=2 in /Users/Ian/opt/anaconda3/lib/python3.9/site-packages (from requests->huggingface-hub>=0.9.0->txtai) (2.0.4)\n",
      "Requirement already satisfied: idna<4,>=2.5 in /Users/Ian/opt/anaconda3/lib/python3.9/site-packages (from requests->huggingface-hub>=0.9.0->txtai) (3.4)\n",
      "Requirement already satisfied: urllib3<3,>=1.21.1 in /Users/Ian/opt/anaconda3/lib/python3.9/site-packages (from requests->huggingface-hub>=0.9.0->txtai) (1.26.16)\n",
      "Requirement already satisfied: certifi>=2017.4.17 in /Users/Ian/opt/anaconda3/lib/python3.9/site-packages (from requests->huggingface-hub>=0.9.0->txtai) (2024.2.2)\n",
      "Requirement already satisfied: mpmath>=0.19 in /Users/Ian/opt/anaconda3/lib/python3.9/site-packages (from sympy->torch>=1.12.1->txtai) (1.3.0)\n",
      "Note: you may need to restart the kernel to use updated packages.\n"
     ]
    },
    {
     "ename": "",
     "evalue": "",
     "output_type": "error",
     "traceback": [
      "\u001b[1;31mThe Kernel crashed while executing code in the current cell or a previous cell. \n",
      "\u001b[1;31mPlease review the code in the cell(s) to identify a possible cause of the failure. \n",
      "\u001b[1;31mClick <a href='https://aka.ms/vscodeJupyterKernelCrash'>here</a> for more info. \n",
      "\u001b[1;31mView Jupyter <a href='command:jupyter.viewOutput'>log</a> for further details."
     ]
    }
   ],
   "source": [
    "%pip install txtai\n",
    "from txtai.embeddings import Embeddings\n",
    "import json\n",
    "import pandas as pd\n"
   ]
  },
  {
   "cell_type": "code",
   "execution_count": null,
   "metadata": {},
   "outputs": [],
   "source": [
    "def get_data():\n",
    "    # data = []\n",
    "    title_data = []\n",
    "    content_data = []\n",
    "    link_data = []\n",
    "    # df = pd.read_csv('https://raw.githubusercontent.com/Anway-Agte/PA-Search-Engine/ai-search/PA_LENR/LENR_metadata_csv.csv', usecols=['document_link', 'abstract', 'title'])\n",
    "    df = pd.read_csv('https://raw.githubusercontent.com/Anway-Agte/PA-Search-Engine/main/PA_LENR/data%20(2).csv', usecols=['document_link', 'abstract', 'title'], nrows=1000)\n",
    "\n",
    "\n",
    "    for index, row in df.iterrows():\n",
    "        abstract = re.sub('[()]', '', str(row['abstract']))\n",
    "        title = str(index+1) + \". \" + re.sub('[()]', '', str(row['title']))\n",
    "        # data.append({\"index\": index, \"abstract\": abstract, \"title\": title, \"link\": row['document_link']})\n",
    "        content_data.append((index, abstract, None))\n",
    "        link_data.append(row['document_link'])\n",
    "        title_data.append(title)\n",
    "    return content_data, link_data, title_data"
   ]
  },
  {
   "cell_type": "code",
   "execution_count": null,
   "metadata": {},
   "outputs": [],
   "source": [
    "content_data, link_data, title_data = get_data()\n",
    "emb_data = []\n",
    "for row in content_data:\n",
    "    emb_data.append(row)\n",
    "embeddings = Embeddings(path=\"sentence-transformers/all-MiniLM-L6-v2\", content=True, objects=True)\n",
    "# self.embeddings.index(zip(content_data, link_data, title_data))\n",
    "embeddings.index(emb_data)\n",
    "embeddings.save(\"models\")"
   ]
  }
 ],
 "metadata": {
  "kernelspec": {
   "display_name": "Python 3",
   "language": "python",
   "name": "python3"
  },
  "language_info": {
   "codemirror_mode": {
    "name": "ipython",
    "version": 3
   },
   "file_extension": ".py",
   "mimetype": "text/x-python",
   "name": "python",
   "nbconvert_exporter": "python",
   "pygments_lexer": "ipython3",
   "version": "3.9.18"
  }
 },
 "nbformat": 4,
 "nbformat_minor": 2
}
